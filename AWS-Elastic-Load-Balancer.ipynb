{
 "cells": [
  {
   "cell_type": "code",
   "execution_count": null,
   "metadata": {},
   "outputs": [],
   "source": [
    "from datetime import datetime, timedelta\n",
    "\n",
    "def get_datetime(log):\n",
    "    return datetime.strptime(log[:len('0000-00-00T00:00:00.000000Z')], '%Y-%m-%dT%H:%M:%S.%fZ')\n",
    "\n",
    "with open('data/2015_07_22_mktplace_shop_web_log_sample.log') as block_logs, open('stream.log', 'a') as stream_logs:\n",
    "    last_datetime = get_datetime(block_logs.readline())\n",
    "    block_logs.seek(0)\n",
    "    for log in block_logs:\n",
    "        this_datetime = get_datetime(log)\n",
    "        wait_seconds = (this_datetime - last_datetime).total_seconds()\n",
    "        if wait_seconds > 0:\n",
    "            from time import sleep\n",
    "            sleep(min(5, wait_seconds))\n",
    "            last_datetime = this_datetime\n",
    "        stream_logs.write(log)"
   ]
  }
 ],
 "metadata": {
  "kernelspec": {
   "display_name": "Python 3",
   "language": "python",
   "name": "python3"
  },
  "language_info": {
   "codemirror_mode": {
    "name": "ipython",
    "version": 3
   },
   "file_extension": ".py",
   "mimetype": "text/x-python",
   "name": "python",
   "nbconvert_exporter": "python",
   "pygments_lexer": "ipython3",
   "version": "3.6.7"
  }
 },
 "nbformat": 4,
 "nbformat_minor": 4
}
