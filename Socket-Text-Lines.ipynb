{
 "cells": [
  {
   "cell_type": "code",
   "execution_count": null,
   "metadata": {},
   "outputs": [],
   "source": [
    "import socket\n",
    "\n",
    "with socket.socket(socket.AF_INET, socket.SOCK_STREAM) as s:\n",
    "    s.bind(('localhost', 9999))\n",
    "    s.listen(1)\n",
    "    with open('data/2015_07_22_mktplace_shop_web_log_sample.log', 'rb') as f:\n",
    "        count = 0\n",
    "        try:\n",
    "            conn, addr = s.accept()\n",
    "            print('streaming connected')\n",
    "            while True:\n",
    "                lines = f.readlines(250000)\n",
    "                if lines == []:\n",
    "                    break\n",
    "                block = b''.join(lines)\n",
    "                print(f'block {count}: {len(block)} bytes')\n",
    "                try:\n",
    "                    conn.sendall(block)\n",
    "                except BrokenPipeError:\n",
    "                    print('streaming disconnected')\n",
    "                    conn, addr = s.accept()\n",
    "                    print('streaming connected')\n",
    "                count += 1\n",
    "        finally:\n",
    "            conn.close()"
   ]
  },
  {
   "cell_type": "raw",
   "metadata": {},
   "source": [
    "# streaming will receive 0 records after receiving something each batch interval because of conn.close()\n",
    "import socket\n",
    "\n",
    "with socket.socket(socket.AF_INET, socket.SOCK_STREAM) as s:\n",
    "    s.bind(('localhost', 9999))\n",
    "    s.listen(1)\n",
    "    with open('data/2015_07_22_mktplace_shop_web_log_sample.log', 'rb') as f:\n",
    "        count = 0\n",
    "        while True:\n",
    "            lines = f.readlines(250000 * 64)\n",
    "            block = b''.join(lines)\n",
    "            print(f'block {count}: {len(block)} bytes')\n",
    "            try:\n",
    "                conn, addr = s.accept()\n",
    "                conn.sendall(block)\n",
    "                count += 1\n",
    "            finally:\n",
    "                conn.close()"
   ]
  }
 ],
 "metadata": {
  "kernelspec": {
   "display_name": "Python 3",
   "language": "python",
   "name": "python3"
  },
  "language_info": {
   "codemirror_mode": {
    "name": "ipython",
    "version": 3
   },
   "file_extension": ".py",
   "mimetype": "text/x-python",
   "name": "python",
   "nbconvert_exporter": "python",
   "pygments_lexer": "ipython3",
   "version": "3.6.7"
  }
 },
 "nbformat": 4,
 "nbformat_minor": 4
}
